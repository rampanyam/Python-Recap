{
 "cells": [
  {
   "cell_type": "code",
   "execution_count": 1,
   "metadata": {},
   "outputs": [
    {
     "data": {
      "text/plain": [
       "[2, 3, 5]"
      ]
     },
     "execution_count": 1,
     "metadata": {},
     "output_type": "execute_result"
    }
   ],
   "source": [
    "\"\"\"\n",
    "Given a list of numbers return the most repeated Digits in an array, the output should be in ascending order\n",
    "\"\"\" \n",
    "list_test = [25,2,3,57,38,41]\n",
    "independent_list = []\n",
    "for x in list_test:\n",
    "    for j in str(x):\n",
    "        independent_list.append(int(j))\n",
    "        \n",
    "\n",
    "        \n",
    "counts_list = [(x,independent_list.count(x)) for x in set(independent_list)]\n",
    "max_value = max([x[1] for x in counts_list])\n",
    "sorted([x[0] for x in counts_list if x[1] == max_value])\n",
    "\n",
    "\n"
   ]
  },
  {
   "cell_type": "code",
   "execution_count": 3,
   "metadata": {},
   "outputs": [
    {
     "data": {
      "text/plain": [
       "[1, 2, 4]"
      ]
     },
     "execution_count": 3,
     "metadata": {},
     "output_type": "execute_result"
    }
   ],
   "source": [
    "\"\"\"\n",
    "Given list of integers, return the next integer in a list for eg : [1,2,3] should return [1,2,4]\n",
    "\"\"\" \n",
    "integers = [1, 2, 3]\n",
    "strings = [str(integer) for integer in integers]\n",
    "a_string = \"\".join(strings)\n",
    "an_integer = int(a_string)\n",
    "[int(x) for x in str(an_integer+1)]"
   ]
  },
  {
   "cell_type": "code",
   "execution_count": 14,
   "metadata": {},
   "outputs": [
    {
     "name": "stdout",
     "output_type": "stream",
     "text": [
      "1300\n",
      "False\n"
     ]
    }
   ],
   "source": [
    "\"\"\"\n",
    "Georgian leap year problem:\n",
    "The year can be evenly divided by 4, is a leap year, unless:\n",
    "    The year can be evenly divided by 100, it is NOT a leap year, unless:\n",
    "        The year is also evenly divisible by 400. Then it is a leap year.\n",
    "\"\"\"\n",
    "\n",
    "def is_leap(year):\n",
    "    leap = False\n",
    "    year = int(year)\n",
    "    \n",
    "    # Write your logic here\n",
    "    if 1900<=year<=(10**5):\n",
    "        if year%4 == 0:\n",
    "            if (year%100 !=0) or (year%400 == 0):\n",
    "                leap = True\n",
    "        else:\n",
    "            leap = False\n",
    "        \n",
    "    return leap\n",
    "\n",
    "year = int(input())\n",
    "print(is_leap(year))"
   ]
  },
  {
   "cell_type": "code",
   "execution_count": 21,
   "metadata": {},
   "outputs": [
    {
     "name": "stdout",
     "output_type": "stream",
     "text": [
      "10\n",
      "12345678910\n"
     ]
    }
   ],
   "source": [
    "\"\"\"\n",
    "Given number n\n",
    "print 123...n\n",
    "for eg:\n",
    "given 4 \n",
    "print 1234\n",
    "\"\"\"\n",
    "\n",
    "\n",
    "n = int(input())\n",
    "if 1<=n<=150:\n",
    "    print(int(''.join([str(x) for x in range(1,n+1)])))"
   ]
  },
  {
   "cell_type": "markdown",
   "metadata": {},
   "source": [
    "<h1> STRINGS </h1>"
   ]
  },
  {
   "cell_type": "code",
   "execution_count": null,
   "metadata": {},
   "outputs": [],
   "source": [
    "\"\"\"\n",
    "SWAP CASE :\n",
    "input abcd output ABCD \n",
    "\"\"\"\n",
    "def swap_case(s):\n",
    "    if 0<len(s)<=1000:\n",
    "        return (''.join([x.lower() if x.isupper() else x.upper() for x in s]))\n",
    "\n",
    "        \n"
   ]
  },
  {
   "cell_type": "code",
   "execution_count": null,
   "metadata": {},
   "outputs": [],
   "source": []
  },
  {
   "cell_type": "code",
   "execution_count": 45,
   "metadata": {},
   "outputs": [
    {
     "name": "stdout",
     "output_type": "stream",
     "text": [
      "17\n",
      "    1     1     1     1\n",
      "    2     2     2    10\n",
      "    3     3     3    11\n",
      "    4     4     4   100\n",
      "    5     5     5   101\n",
      "    6     6     6   110\n",
      "    7     7     7   111\n",
      "    8    10     8  1000\n",
      "    9    11     9  1001\n",
      "   10    12     A  1010\n",
      "   11    13     B  1011\n",
      "   12    14     C  1100\n",
      "   13    15     D  1101\n",
      "   14    16     E  1110\n",
      "   15    17     F  1111\n",
      "   16    20    10 10000\n",
      "   17    21    11 10001\n"
     ]
    }
   ],
   "source": [
    "\"\"\"\n",
    "Given an integer, n, print the following values for each integer  from  to :\n",
    "\n",
    "Decimal\n",
    "Octal\n",
    "Hexadecimal (capitalized)\n",
    "Binary\n",
    "Function Description\n",
    "\n",
    "Complete the print_formatted function in the editor below.\n",
    "\n",
    "print_formatted has the following parameters:\n",
    "\n",
    "int number: the maximum value to print\n",
    "Prints\n",
    "\n",
    "The four values must be printed on a single line in the order specified above for each  from  to . Each value should be space-padded to match the width of the binary value of  and the values should be separated by a single space.\n",
    "\n",
    "Input Format\n",
    "\n",
    "A single integer denoting .\n",
    "\n",
    "Constraints\n",
    "\n",
    "1<=n<=99\n",
    "\n",
    "\n",
    "\n",
    "\n",
    "\"\"\"\n",
    "\n",
    "\n",
    "\n",
    "def print_formatted(number):\n",
    "    # your code goes here\n",
    "    if 1<=number<=99:\n",
    "        for x in range(1,number+1):\n",
    "            width = len(bin(number)[2:])\n",
    "            print(str(x).rjust(width),(oct(x)[2:]).rjust(width),((hex(x)[2:]).upper()).rjust(width),(bin(x)[2:]).rjust(width))\n",
    "\n",
    "if __name__ == '__main__':\n",
    "    n = int(input())\n",
    "    print_formatted(n)"
   ]
  },
  {
   "cell_type": "markdown",
   "metadata": {},
   "source": [
    "<h4>Text Alignment Task:</h4>"
   ]
  },
  {
   "cell_type": "code",
   "execution_count": 46,
   "metadata": {},
   "outputs": [
    {
     "name": "stdout",
     "output_type": "stream",
     "text": [
      "    H    \n",
      "   HHH   \n",
      "  HHHHH  \n",
      " HHHHHHH \n",
      "HHHHHHHHH\n",
      "  HHHHH               HHHHH             \n",
      "  HHHHH               HHHHH             \n",
      "  HHHHH               HHHHH             \n",
      "  HHHHH               HHHHH             \n",
      "  HHHHH               HHHHH             \n",
      "  HHHHH               HHHHH             \n",
      "  HHHHHHHHHHHHHHHHHHHHHHHHH   \n",
      "  HHHHHHHHHHHHHHHHHHHHHHHHH   \n",
      "  HHHHHHHHHHHHHHHHHHHHHHHHH   \n",
      "  HHHHH               HHHHH             \n",
      "  HHHHH               HHHHH             \n",
      "  HHHHH               HHHHH             \n",
      "  HHHHH               HHHHH             \n",
      "  HHHHH               HHHHH             \n",
      "  HHHHH               HHHHH             \n",
      "                    HHHHHHHHH \n",
      "                     HHHHHHH  \n",
      "                      HHHHH   \n",
      "                       HHH    \n",
      "                        H     \n"
     ]
    }
   ],
   "source": [
    "thickness = 5\n",
    "c='H'\n",
    "for i in range(thickness):\n",
    "    print((c*i).rjust(thickness-1)+c+(c*i).ljust(thickness-1))\n",
    "\n",
    "\n",
    "for i in range(thickness+1):\n",
    "    print((c*thickness).center(thickness*2)+(c*thickness).center(thickness*6))\n",
    "\n",
    "\n",
    "for i in range((thickness+1)//2):\n",
    "    print((c*thickness*5).center(thickness*6))  \n",
    "\n",
    "for i in range(thickness+1):\n",
    "    print((c*thickness).center(thickness*2)+(c*thickness).center(thickness*6)) \n",
    "\n",
    "for i in range(thickness):\n",
    "    print(((c*(thickness-i-1)).rjust(thickness)+c+(c*(thickness-i-1)).ljust(thickness)).rjust(thickness*6))"
   ]
  },
  {
   "cell_type": "code",
   "execution_count": 57,
   "metadata": {},
   "outputs": [
    {
     "name": "stdout",
     "output_type": "stream",
     "text": [
      "9 27\n",
      "------------.|.------------\n",
      "---------.|..|..|.---------\n",
      "------.|..|..|..|..|.------\n",
      "---.|..|..|..|..|..|..|.---\n",
      "----------WELCOME----------\n",
      "---.|..|..|..|..|..|..|.---\n",
      "------.|..|..|..|..|.------\n",
      "---------.|..|..|.---------\n",
      "------------.|.------------\n"
     ]
    }
   ],
   "source": [
    "#Door Mat:\n",
    "\n",
    "n, m = [int(x) for x in input().split()] # Take 2 inputs \n",
    "\n",
    "### Create a list of the pattern\n",
    "pattern = [('.|.'*(2*i + 1)).center(m, '-') for i in range(n//2)]\n",
    "\n",
    "# Concatinate patternlist with WELCOOME and  reverse pattern list, in other words : patternlist + ---WELCOME--- + patternlist[::-1]\n",
    "print('\\n'.join(pattern + ['WELCOME'.center(m, '-')] + pattern[::-1]))\n"
   ]
  },
  {
   "cell_type": "code",
   "execution_count": 104,
   "metadata": {},
   "outputs": [],
   "source": [
    "\"\"\"\n",
    "Capitalize String\n",
    "\n",
    "if 0 < len(s) < 1000:\n",
    "        for i in s[:].split():\n",
    "            s = s.replace(i,i.capitalize())\n",
    "        return s\n",
    "        \n",
    "\"\"\"\n",
    "\n",
    "\n",
    "import re\n",
    "def solve(s):\n",
    "    if 0 < len(s) < 1000:\n",
    "        for i in s[:].split():\n",
    "            s = s.replace(i,i.capitalize())\n",
    "        return s"
   ]
  },
  {
   "cell_type": "markdown",
   "metadata": {},
   "source": [
    "# Code for Extracting various possible substrings strating with a set of letters:"
   ]
  },
  {
   "cell_type": "code",
   "execution_count": 23,
   "metadata": {},
   "outputs": [
    {
     "name": "stdout",
     "output_type": "stream",
     "text": [
      "Stuart 12\n"
     ]
    }
   ],
   "source": [
    "s = \"BANANA\"\n",
    "kevin = []\n",
    "vowels = \"AEIOU\"\n",
    "for i, letter in list(enumerate(s)):\n",
    "    if letter in vowels:\n",
    "        for j in range(i+1,len(s)+1):\n",
    "            kevin.append(s[i:j])\n",
    "\n",
    "\n",
    "\n",
    "kevinscore = sum([kevin.count(x) for x in set(sorted(kevin))])\n",
    "\n",
    "\n",
    "stuart = []\n",
    "for i, letter in list(enumerate(s)):\n",
    "    if letter  not in vowels:\n",
    "        for j in range(i+1,len(s)+1):\n",
    "            stuart.append(s[i:j])\n",
    "stuartscore = sum([stuart.count(x) for x in set(sorted(stuart))])\n",
    "stuartscore\n",
    "\n",
    "\n",
    "if stuartscore > kevinscore:\n",
    "    print(\"Stuart\"+\" \"+str(stuartscore))\n",
    "elif kevinscore > stuartscore:\n",
    "    print(\"Kevin\"+\" \"+str(kevinscore))\n",
    "else:\n",
    "    print(\"Draw\")"
   ]
  },
  {
   "cell_type": "code",
   "execution_count": null,
   "metadata": {},
   "outputs": [],
   "source": []
  },
  {
   "cell_type": "code",
   "execution_count": 36,
   "metadata": {},
   "outputs": [],
   "source": [
    "def minion_game(string):\n",
    "    vowels = {'A','E','I','O','U'}\n",
    "    kevin = 0\n",
    "    stuart = 0\n",
    "    for i in range(len(string)):\n",
    "        if string[i] in vowels:\n",
    "            kevin += len(string) - i\n",
    "        else:\n",
    "            stuart += len(string) - i\n",
    "\n",
    "    if kevin == stuart:\n",
    "        print(\"Draw\")\n",
    "    elif kevin > stuart:\n",
    "        print(\"Kevin \" + str(kevin))\n",
    "    else:\n",
    "        print(\"Stuart \" + str(stuart))"
   ]
  },
  {
   "cell_type": "code",
   "execution_count": 93,
   "metadata": {},
   "outputs": [
    {
     "name": "stdout",
     "output_type": "stream",
     "text": [
      "BA\n",
      "CA\n",
      "DA\n"
     ]
    }
   ],
   "source": [
    "\n",
    "s = 'AABCAAADA'\n",
    "division = []\n",
    "for i in indexes:\n",
    "    division.append(s[i:i+3])\n",
    "\n",
    "for i in division:\n",
    "    print(''.join(set(i)))"
   ]
  },
  {
   "cell_type": "code",
   "execution_count": 19,
   "metadata": {},
   "outputs": [
    {
     "data": {
      "text/plain": [
       "'AB'"
      ]
     },
     "execution_count": 19,
     "metadata": {},
     "output_type": "execute_result"
    }
   ],
   "source": [
    "\"\".join(dict.fromkeys('AAB'))"
   ]
  },
  {
   "cell_type": "markdown",
   "metadata": {},
   "source": [
    "### MERGE THE TOOLS PROBLEM: "
   ]
  },
  {
   "cell_type": "code",
   "execution_count": 29,
   "metadata": {},
   "outputs": [
    {
     "name": "stdout",
     "output_type": "stream",
     "text": [
      "AB\n",
      "CA\n",
      "AD\n"
     ]
    }
   ],
   "source": [
    "k = 3\n",
    "s = 'AABCAAADA'\n",
    "n = len(s)\n",
    "for i in range(0,n,k):\n",
    "    print(\"\".join(dict.fromkeys(s[i:i+k])))"
   ]
  },
  {
   "cell_type": "markdown",
   "metadata": {},
   "source": [
    "## SETS : \n",
    "### Set Avg"
   ]
  },
  {
   "cell_type": "code",
   "execution_count": 1,
   "metadata": {},
   "outputs": [
    {
     "data": {
      "text/plain": [
       "169.375"
      ]
     },
     "execution_count": 1,
     "metadata": {},
     "output_type": "execute_result"
    }
   ],
   "source": [
    "\n",
    "sum(set([int(x) for x in '161 182 161 154 176 170 167 171 170 174 '.split()]))/len(set([int(x) for x in '161 182 161 154 176 170 167 171 170 174 '.split()]))"
   ]
  },
  {
   "cell_type": "markdown",
   "metadata": {},
   "source": [
    "### No IDEA Problem:"
   ]
  },
  {
   "cell_type": "code",
   "execution_count": 10,
   "metadata": {},
   "outputs": [
    {
     "name": "stdout",
     "output_type": "stream",
     "text": [
      "3 2\n",
      "1 5 3\n",
      "3 5\n",
      "2 7\n",
      "2\n"
     ]
    }
   ],
   "source": [
    "# n,m = input().strip(' ')\n",
    "# array_list = input().strip(' ')\n",
    "# set_A = input().strip(' ')\n",
    "# set_B = input().strip(' ')\n",
    "\n",
    "\n",
    "happiness = 0\n",
    "n,m = input().split(' ')\n",
    "array_list = list(map(int,input().split(' ') ))\n",
    "set_A = set(map(int,input().split(' ')))\n",
    "set_B = set(map(int,input().split(' ')))\n",
    "\n",
    "for i in array_list:\n",
    "    if i in set_A:\n",
    "        happiness+=1\n",
    "    elif i in set_B:\n",
    "        happiness-=1\n",
    "print(happiness)\n"
   ]
  },
  {
   "cell_type": "markdown",
   "metadata": {},
   "source": [
    "### set.add() challenge"
   ]
  },
  {
   "cell_type": "code",
   "execution_count": 33,
   "metadata": {},
   "outputs": [
    {
     "name": "stdout",
     "output_type": "stream",
     "text": [
      "7\n",
      "UK\n",
      "UK\n",
      "India\n",
      "India\n",
      "Canda\n",
      "Canda\n",
      "Aus\n",
      "4\n"
     ]
    }
   ],
   "source": [
    "# Enter your code here. Read input from STDIN. Print output to STDOUT\n",
    "a = input()\n",
    "lines = \"\"\n",
    "for i in range(int(a)):\n",
    "    lines+=input()+\"\\n\"\n",
    "    \n",
    "\n",
    "print(len(set(lines.strip('').rstrip('\\n').split('\\n'))))\n"
   ]
  },
  {
   "cell_type": "markdown",
   "metadata": {},
   "source": [
    "\n",
    "\n",
    "### set.discard() vs set.remove() vs set.pop()\n",
    "\n",
    ".discard(x)\n",
    "This operation also removes element  from the set.\n",
    "If element  does not exist, it `does not raise a KeyError`.\n",
    "The .discard(x) operation returns None.\n",
    "\n",
    "\n",
    "\n",
    "\n",
    "remove(x)\n",
    "This operation removes element  from the set.\n",
    "If element  does not exist, `it raises a KeyError`.\n",
    "The .remove(x) operation returns None.\n",
    "\n",
    "\n",
    "pop(x)\n",
    "This operation removes and return an arbitrary element from the set.\n",
    "If there are no elements to remove, `it raises a KeyError.`"
   ]
  },
  {
   "cell_type": "code",
   "execution_count": 47,
   "metadata": {},
   "outputs": [
    {
     "name": "stdout",
     "output_type": "stream",
     "text": [
      "pop\n",
      "remove 9\n",
      "discard 9\n",
      "discard 8\n",
      "remove 7\n",
      "pop\n",
      "discard 6\n",
      "remove 5\n",
      "pop\n",
      "discard 5\n",
      "4\n"
     ]
    }
   ],
   "source": [
    "\"\"\"\n",
    "Given input:\n",
    "9\n",
    "1 2 3 4 5 6 7 8 9\n",
    "10\n",
    "pop\n",
    "remove 9\n",
    "discard 9\n",
    "discard 8\n",
    "remove 7\n",
    "pop \n",
    "discard 6\n",
    "remove 5\n",
    "pop \n",
    "discard 5\n",
    "\n",
    "Output: \n",
    "sum of elements of set after operations: 4\n",
    "\"\"\"\n",
    "\n",
    "s = set(map(int, \"1 2 3 4 5 6 7 8 9\".split()))\n",
    "numnber_of_operations = 10\n",
    "\n",
    "\n",
    "\n",
    "operations = \"\"\n",
    "for i in range(int(numnber_of_operations)):\n",
    "    operations+=input()+\"\\n\"\n",
    "\n",
    "    \n",
    "operations = operations.strip('\\n').split('\\n')\n",
    "for i in range(numnber_of_operations):\n",
    "    if \"pop\" in operations[i]:\n",
    "        s.pop()\n",
    "    elif \"discard\" in operations[i]:\n",
    "        s.discard(int(operations[i].split()[1]))\n",
    "    elif \"remove\" in operations[i]:\n",
    "        s.remove(int(operations[i].split()[1]))\n",
    "    else:\n",
    "        pass\n",
    "        \n",
    "print(sum(s))      \n",
    "        \n",
    "        \n",
    "        \n"
   ]
  },
  {
   "cell_type": "code",
   "execution_count": null,
   "metadata": {},
   "outputs": [],
   "source": []
  },
  {
   "cell_type": "markdown",
   "metadata": {},
   "source": [
    "### Set.union()\n",
    "    -Returns the common elements (elemenates duplicates) and non common between set A and Set of iterable ( or Set B)\n",
    "    \n",
    "### Set A | set B :\n",
    "        -Same as union but only works for sets not other iterables\n",
    "        \n",
    " ### set intersection:\n",
    "     -- returns only common \n",
    "     \n",
    "     \n",
    "  ### SetA.difference(setB) : This gives the elements belonging in set A only.\\\n",
    "  \n",
    "  \n",
    "  \n",
    "   \n",
    "  ### Symmetric difference : ( Uncommon)\n",
    " - The .symmetric_difference() operator returns a set with all the elements that are in the set and the iterable but not both. Sometimes, a ^ operator is used in place of the .symmetric_difference() tool, but it only operates on the set of elements in set.\n",
    "The set is immutable to the .symmetric_difference() operation (or ^ operation).\n",
    "  "
   ]
  },
  {
   "cell_type": "code",
   "execution_count": null,
   "metadata": {},
   "outputs": [],
   "source": []
  },
  {
   "cell_type": "code",
   "execution_count": 67,
   "metadata": {},
   "outputs": [
    {
     "name": "stdout",
     "output_type": "stream",
     "text": [
      "5\n",
      "{1, 2, 3, 4, 5, 6, 7, 8, 9, 10, 11, 21, 55}\n",
      "{1, 2, 3, 4, 5, 6, 7, 8, 9, 10, 11, 21, 55}\n"
     ]
    }
   ],
   "source": [
    "\n",
    "s2 =  set(map(int,'1 2 3 4 5 6 7 8 9'.split()))\n",
    "s1 = set(map(int, '10 1 2 3 11 21 55 6 8'.split()))\n",
    "print(len(s1.intersection(s2)))\n",
    "print(s1.union(s2))\n",
    "print(s1|s2)"
   ]
  },
  {
   "cell_type": "code",
   "execution_count": 69,
   "metadata": {},
   "outputs": [
    {
     "name": "stdout",
     "output_type": "stream",
     "text": [
      "{1, 2, 3, 6, 8, 10, 11, 20, 21, 55, 30}\n"
     ]
    },
    {
     "ename": "TypeError",
     "evalue": "unsupported operand type(s) for |: 'set' and 'list'",
     "output_type": "error",
     "traceback": [
      "\u001b[1;31m---------------------------------------------------------------------------\u001b[0m",
      "\u001b[1;31mTypeError\u001b[0m                                 Traceback (most recent call last)",
      "\u001b[1;32m<ipython-input-69-c29d6a6f64a2>\u001b[0m in \u001b[0;36m<module>\u001b[1;34m\u001b[0m\n\u001b[0;32m      1\u001b[0m \u001b[0mprint\u001b[0m\u001b[1;33m(\u001b[0m\u001b[0ms1\u001b[0m\u001b[1;33m.\u001b[0m\u001b[0munion\u001b[0m\u001b[1;33m(\u001b[0m\u001b[1;33m[\u001b[0m\u001b[1;36m10\u001b[0m\u001b[1;33m,\u001b[0m\u001b[1;36m20\u001b[0m\u001b[1;33m,\u001b[0m\u001b[1;36m30\u001b[0m\u001b[1;33m,\u001b[0m\u001b[1;36m1\u001b[0m\u001b[1;33m,\u001b[0m\u001b[1;36m2\u001b[0m\u001b[1;33m]\u001b[0m\u001b[1;33m)\u001b[0m\u001b[1;33m)\u001b[0m\u001b[1;33m\u001b[0m\u001b[1;33m\u001b[0m\u001b[0m\n\u001b[1;32m----> 2\u001b[1;33m \u001b[0mprint\u001b[0m\u001b[1;33m(\u001b[0m\u001b[0ms1\u001b[0m \u001b[1;33m|\u001b[0m \u001b[1;33m[\u001b[0m\u001b[1;36m10\u001b[0m\u001b[1;33m,\u001b[0m\u001b[1;36m20\u001b[0m\u001b[1;33m,\u001b[0m\u001b[1;36m30\u001b[0m\u001b[1;33m,\u001b[0m\u001b[1;36m1\u001b[0m\u001b[1;33m,\u001b[0m\u001b[1;36m2\u001b[0m\u001b[1;33m]\u001b[0m\u001b[1;33m)\u001b[0m\u001b[1;33m\u001b[0m\u001b[1;33m\u001b[0m\u001b[0m\n\u001b[0m",
      "\u001b[1;31mTypeError\u001b[0m: unsupported operand type(s) for |: 'set' and 'list'"
     ]
    }
   ],
   "source": [
    "print(s1.union([10,20,30,1,2]))\n",
    "print(s1 | [10,20,30,1,2]) ## This ONE GIVES TYPE ERROR as RHS should be a SET not LIST."
   ]
  },
  {
   "cell_type": "code",
   "execution_count": 70,
   "metadata": {},
   "outputs": [
    {
     "data": {
      "text/plain": [
       "{10, 11, 21, 55}"
      ]
     },
     "execution_count": 70,
     "metadata": {},
     "output_type": "execute_result"
    }
   ],
   "source": [
    "s1.difference(s2)"
   ]
  },
  {
   "cell_type": "code",
   "execution_count": 73,
   "metadata": {},
   "outputs": [
    {
     "data": {
      "text/plain": [
       "{1, 2, 3, 6, 8, 10, 11, 21, 55}"
      ]
     },
     "execution_count": 73,
     "metadata": {},
     "output_type": "execute_result"
    }
   ],
   "source": [
    "s1"
   ]
  },
  {
   "cell_type": "code",
   "execution_count": 74,
   "metadata": {},
   "outputs": [
    {
     "data": {
      "text/plain": [
       "{1, 2, 3, 4, 5, 6, 7, 8, 9}"
      ]
     },
     "execution_count": 74,
     "metadata": {},
     "output_type": "execute_result"
    }
   ],
   "source": [
    "s2"
   ]
  },
  {
   "cell_type": "code",
   "execution_count": 75,
   "metadata": {},
   "outputs": [
    {
     "data": {
      "text/plain": [
       "{4, 5, 7, 9, 10, 11, 21, 55}"
      ]
     },
     "execution_count": 75,
     "metadata": {},
     "output_type": "execute_result"
    }
   ],
   "source": [
    "s1.symmetric_difference(s2)"
   ]
  },
  {
   "cell_type": "markdown",
   "metadata": {},
   "source": [
    "set.difference_update() or set.intersection_update() or set.update() this will make the change  in the set ( MUTABLE)."
   ]
  },
  {
   "cell_type": "code",
   "execution_count": null,
   "metadata": {},
   "outputs": [],
   "source": [
    "\"\"\"\n",
    "16\n",
    " 1 2 3 4 5 6 7 8 9 10 11 12 13 14 24 52\n",
    " 4\n",
    " intersection_update 10\n",
    " 2 3 5 6 8 9 1 4 7 11\n",
    " update 2\n",
    " 55 66\n",
    " symmetric_difference_update 5\n",
    " 22 7 35 62 58\n",
    " difference_update 7\n",
    " 11 22 35 55 58 62 66\n",
    " \n",
    "\"\"\"\n",
    "\n",
    "len_set = input()\n",
    "set_A = input()\n",
    "set_A = set(map(int,set_A.split()))\n",
    "num_operations = input()\n",
    "num_lines = 2*(int(num_operations))\n",
    "\n",
    "\n",
    "set_operations = \"\"\n",
    "for i in range(num_lines):\n",
    "    set_operations+=input()+\"\\n\"\n",
    "    \n",
    "\n",
    "\n",
    "\n",
    "s1 = set_operations.strip(\"\\n\").split(\"\\n\")\n",
    "\n",
    "for i in range(len(s1)):\n",
    "    if s1[i].split()[0] == \"intersection_update\":\n",
    "        set_B = set(map(int,s1[i+1].split(\" \")))\n",
    "        set_A.intersection_update(set_B)\n",
    "#         print(s_A)\n",
    "    elif s1[i].split()[0] == \"update\":\n",
    "        set_B = set(map(int,s1[i+1].split(\" \")))\n",
    "        set_A.update(set_B)\n",
    "#         print(s_A)\n",
    "    elif s1[i].split()[0] == \"difference_update\":\n",
    "        set_B = set(map(int,s1[i+1].split(\" \")))\n",
    "        set_A.difference_update(set_B)\n",
    "#         print(s_A)\n",
    "        \n",
    "    elif s1[i].split()[0] == \"symmetric_difference_update\":\n",
    "        set_B = set(map(int,s1[i+1].split(\" \")))\n",
    "        set_A.symmetric_difference_update(set_B)\n",
    "#         print(s_A)\n",
    "    else:\n",
    "        pass\n",
    "        \n",
    "        \n",
    "print(sum(set_A))\n",
    "\n",
    "\n",
    "\n",
    "\n",
    "\n"
   ]
  },
  {
   "cell_type": "code",
   "execution_count": 133,
   "metadata": {},
   "outputs": [
    {
     "name": "stdout",
     "output_type": "stream",
     "text": [
      "{1, 2, 3, 4, 5, 6, 7, 8, 9, 11}\n",
      "{1, 2, 3, 4, 5, 6, 7, 8, 9, 66, 11, 55}\n",
      "{1, 2, 3, 4, 5, 6, 8, 9, 66, 11, 35, 22, 55, 58, 62}\n",
      "{1, 2, 3, 4, 5, 6, 8, 9}\n",
      "38\n"
     ]
    }
   ],
   "source": [
    "\n",
    "\n",
    "\n",
    "s1 = set_operations.strip(\"\\n\").split(\"\\n\")\n",
    "\n",
    "for i in range(len(s1)):\n",
    "    if s1[i].split()[0] == \"intersection_update\":\n",
    "        set_B = set(map(int,s1[i+1].split(\" \")))\n",
    "        set_A.intersection_update(set_B)\n",
    "#         print(s_A)\n",
    "    elif s1[i].split()[0] == \"update\":\n",
    "        set_B = set(map(int,s1[i+1].split(\" \")))\n",
    "        set_A.update(set_B)\n",
    "#         print(s_A)\n",
    "    elif s1[i].split()[0] == \"difference_update\":\n",
    "        set_B = set(map(int,s1[i+1].split(\" \")))\n",
    "        set_A.difference_update(set_B)\n",
    "#         print(s_A)\n",
    "        \n",
    "    elif s1[i].split()[0] == \"symmetric_difference_update\":\n",
    "        set_B = set(map(int,s1[i+1].split(\" \")))\n",
    "        set_A.symmetric_difference_update(set_B)\n",
    "#         print(s_A)\n",
    "    else:\n",
    "        pass\n",
    "        \n",
    "        \n",
    "print(sum(s_A))"
   ]
  },
  {
   "cell_type": "code",
   "execution_count": 110,
   "metadata": {},
   "outputs": [
    {
     "name": "stdout",
     "output_type": "stream",
     "text": [
      "['intersection_update', '10']\n",
      "['2', '3', '5', '6', '8', '9', '1', '4', '7', '11']\n",
      "['update', '2']\n",
      "['55', '66']\n",
      "['symmetric_difference_update', '5']\n",
      "['22', '7', '35', '62', '58']\n",
      "['difference_update', '7']\n",
      "['11', '22', '35', '55', '58', '62', '66']\n"
     ]
    }
   ],
   "source": [
    "for i in s1:\n",
    "    print(i.split(\" \"))"
   ]
  },
  {
   "cell_type": "code",
   "execution_count": 124,
   "metadata": {},
   "outputs": [],
   "source": [
    " if s1[2].split()[0] == \"update\":\n",
    "        set_B = set(map(int,s1[3].split(\" \")))\n",
    "        "
   ]
  },
  {
   "cell_type": "markdown",
   "metadata": {},
   "source": [
    "### symmetric difference problem:"
   ]
  },
  {
   "cell_type": "code",
   "execution_count": 2,
   "metadata": {},
   "outputs": [
    {
     "data": {
      "text/plain": [
       "[5, 9, 11, 12]"
      ]
     },
     "execution_count": 2,
     "metadata": {},
     "output_type": "execute_result"
    }
   ],
   "source": [
    "sorted({2,4,5,9}.symmetric_difference({2,4,11,12}),reverse=False)"
   ]
  },
  {
   "cell_type": "markdown",
   "metadata": {},
   "source": [
    "### The Captains Room ProbleM:\n",
    "\n",
    "#### Method 1: This method Fails as lists take longer execution time as opposed to sets"
   ]
  },
  {
   "cell_type": "code",
   "execution_count": 20,
   "metadata": {},
   "outputs": [
    {
     "name": "stdout",
     "output_type": "stream",
     "text": [
      "8\n"
     ]
    }
   ],
   "source": [
    "\n",
    "k_value = 5\n",
    "list_value = '1 2 3 6 5 4 4 2 5 3 6 1 6 5 3 2 4 1 2 5 1 4 3 6 8 4 3 1 5 6 2'.split() \n",
    "list_value = list(map(int,list_value))\n",
    "print(int(''.join([str(i) for i in list_value if list_value.count(i) == 1])))"
   ]
  },
  {
   "cell_type": "markdown",
   "metadata": {},
   "source": [
    "## Method 2: Sets are faster than Lists:"
   ]
  },
  {
   "cell_type": "code",
   "execution_count": 17,
   "metadata": {},
   "outputs": [
    {
     "name": "stdout",
     "output_type": "stream",
     "text": [
      "5\n",
      "1 2 3 6 5 4 4 2 5 3 6 1 6 5 3 2 4 1 2 5 1 4 3 6 8 4 3 1 5 6 2\n",
      "8\n"
     ]
    }
   ],
   "source": [
    "def captains_room():\n",
    "    k_value, list_value = input(), input()\n",
    "    list_value = list(map(int,list_value.split()))\n",
    "    single, multiple = set(), set()\n",
    "    for i in list_value:\n",
    "        if i not in single:\n",
    "            single.add(i)\n",
    "        else:\n",
    "            multiple.add(i)\n",
    "\n",
    "\n",
    "    print(single.difference(multiple).pop())\n",
    "\n",
    "captains_room()"
   ]
  },
  {
   "cell_type": "markdown",
   "metadata": {},
   "source": [
    "# Chceck Subset Problem: "
   ]
  },
  {
   "cell_type": "code",
   "execution_count": 80,
   "metadata": {},
   "outputs": [],
   "source": [
    "def check_subset():\n",
    "    subsets = \"\"\n",
    "    test_cases = input()\n",
    "    for i in range(int(test_cases)*4):\n",
    "        subsets+=input()+\"\\n\"\n",
    "\n",
    "\n",
    "    subset_list = subsets.strip('\\n').split('\\n')\n",
    "    subset_number = int(round(len(subset_list)/int(test_cases)))\n",
    "    for i in range(0,len(subset_list),subset_number):\n",
    "        newlist = subset_list[i:i+subset_number]\n",
    "        subset_A = set(map(int,newlist[1].split(' ')))\n",
    "        subset_B = set(map(int,newlist[3].split(' ')))\n",
    "        print(subset_A.issubset(subset_B))\n"
   ]
  },
  {
   "cell_type": "code",
   "execution_count": null,
   "metadata": {},
   "outputs": [],
   "source": []
  },
  {
   "cell_type": "code",
   "execution_count": 97,
   "metadata": {},
   "outputs": [],
   "source": [
    "def checkstrict_superset():\n",
    "    input_set =set(map(int, input().split()))\n",
    "    no_sets  = int(input())\n",
    "    boolean = []\n",
    "    sets_to_compare = \"\"\n",
    "    for i in range(no_sets):\n",
    "        sets_to_compare+=input()+ \"\\n\"\n",
    "\n",
    "    sets_to_compare = sets_to_compare.strip(\"\\n\").split(\"\\n\")\n",
    "    for i in sets_to_compare:\n",
    "        s = set(map(int,i.split()))\n",
    "        boolean.append(input_set.issuperset(s))\n",
    "\n",
    "    print(all(boolean))\n"
   ]
  },
  {
   "cell_type": "code",
   "execution_count": null,
   "metadata": {},
   "outputs": [],
   "source": []
  },
  {
   "cell_type": "markdown",
   "metadata": {},
   "source": [
    "## Math Module:"
   ]
  },
  {
   "cell_type": "code",
   "execution_count": 101,
   "metadata": {},
   "outputs": [
    {
     "name": "stdout",
     "output_type": "stream",
     "text": [
      "3.605551275463989\n",
      "0.982793723247329\n"
     ]
    }
   ],
   "source": [
    "import cmath\n",
    "\n",
    "w = 2 + 3j\n",
    "r,theta = cmath.polar(w)\n",
    "print(r)\n",
    "print(theta)"
   ]
  },
  {
   "cell_type": "code",
   "execution_count": 106,
   "metadata": {},
   "outputs": [
    {
     "data": {
      "text/plain": [
       "(3.605551275463989, 0.982793723247329)"
      ]
     },
     "execution_count": 106,
     "metadata": {},
     "output_type": "execute_result"
    }
   ],
   "source": [
    "cmath.polar(complex('2+3j'))"
   ]
  },
  {
   "cell_type": "markdown",
   "metadata": {},
   "source": [
    "Find MBC Angle problem:"
   ]
  },
  {
   "cell_type": "code",
   "execution_count": 126,
   "metadata": {},
   "outputs": [
    {
     "data": {
      "text/plain": [
       "'45°'"
      ]
     },
     "execution_count": 126,
     "metadata": {},
     "output_type": "execute_result"
    }
   ],
   "source": [
    "AB = 10\n",
    "BC = 10 \n",
    "AC = math.sqrt((AB**2) + (BC**2)) \n",
    "H = AC/2.0\n",
    "A = BC/2.0 \n",
    "degree_sign = u\"\\N{DEGREE SIGN}\"\n",
    "str(round(math.degrees(math.acos(A/H)))) + degree_sign"
   ]
  },
  {
   "cell_type": "code",
   "execution_count": null,
   "metadata": {},
   "outputs": [],
   "source": []
  },
  {
   "cell_type": "markdown",
   "metadata": {},
   "source": [
    "# Palindrome with Strings:"
   ]
  },
  {
   "cell_type": "code",
   "execution_count": 50,
   "metadata": {},
   "outputs": [
    {
     "name": "stdout",
     "output_type": "stream",
     "text": [
      "1\n",
      "121\n",
      "12321\n",
      "1234321\n",
      "123454321\n"
     ]
    }
   ],
   "source": [
    "### Triangle Quest:\n",
    "\n",
    "for i in range(1,int(6)): #More than 2 lines will result in 0 score. Do not leave a blank line also\n",
    "    print (int((''.join(list(map(str,list(range(1,6))))[0:i]) + ''.join(list(map(str,list(range(1,6))))[0:i])[::-1][1:]  )))"
   ]
  },
  {
   "cell_type": "code",
   "execution_count": 69,
   "metadata": {
    "scrolled": true
   },
   "outputs": [
    {
     "name": "stdout",
     "output_type": "stream",
     "text": [
      "1\n",
      "121\n",
      "12321\n",
      "1234321\n",
      "123454321\n"
     ]
    }
   ],
   "source": [
    "### Triangle Quest with integers:\n",
    "### But,this is wrong as it has STRING LITERAL '*'\n",
    "\n",
    "for i in range(1,int(6)): #More than 2 lines will result in 0 score. Do not leave a blank line also\n",
    "    print(*list(range(1,6))[0:i]+ list(range(1,6))[0:i][::-1][1:],sep='')"
   ]
  },
  {
   "cell_type": "code",
   "execution_count": 91,
   "metadata": {},
   "outputs": [
    {
     "name": "stdout",
     "output_type": "stream",
     "text": [
      "1\n",
      "121\n",
      "12321\n",
      "1234321\n",
      "123454321\n",
      "12345654321\n",
      "1234567654321\n"
     ]
    }
   ],
   "source": [
    "## Another method with strings: \n",
    "for i in range(1,int(8)):\n",
    "    print( int(str(1)*i)  *  int(str(1)*i))\n",
    "    \n",
    "    \n",
    "    \n",
    "    \n",
    "### Non Elegant , NON - Mathematical Method:\n",
    "# for i in range(0,int(input())):\n",
    "#     print([1,121,12321,1234321,123454321,12345654321,1234567654321,123456787654321,12345678987654321][i])\n",
    "\n",
    "    \n"
   ]
  },
  {
   "cell_type": "code",
   "execution_count": 92,
   "metadata": {},
   "outputs": [
    {
     "name": "stdout",
     "output_type": "stream",
     "text": [
      "1\n",
      "121\n",
      "12321\n",
      "1234321\n",
      "123454321\n"
     ]
    }
   ],
   "source": [
    "## Mathematical approach \n",
    "for i in range(1,6):\n",
    "    print((10**i//9)**2)"
   ]
  },
  {
   "cell_type": "markdown",
   "metadata": {},
   "source": [
    "### Mod Divmod"
   ]
  },
  {
   "cell_type": "code",
   "execution_count": 94,
   "metadata": {},
   "outputs": [
    {
     "name": "stdout",
     "output_type": "stream",
     "text": [
      "17\n",
      "7\n",
      "(17, 7)\n"
     ]
    }
   ],
   "source": [
    "a = 177\n",
    "b = 10\n",
    "print(a//b)\n",
    "print(a%b)\n",
    "print(divmod(a,b))"
   ]
  },
  {
   "cell_type": "markdown",
   "metadata": {},
   "source": [
    "## Power and Mod Power:\n",
    "\n",
    "Mod power gives the modules of a**b and m \n",
    "syntax: pow(a,b,m)\n"
   ]
  },
  {
   "cell_type": "code",
   "execution_count": 95,
   "metadata": {},
   "outputs": [
    {
     "name": "stdout",
     "output_type": "stream",
     "text": [
      "3\n",
      "4\n",
      "5\n",
      "81\n",
      "1\n"
     ]
    }
   ],
   "source": [
    "a = int(input())\n",
    "b = int(input())\n",
    "m = int(input())\n",
    "print(pow(a,b))\n",
    "print(pow(a,b,m))"
   ]
  }
 ],
 "metadata": {
  "kernelspec": {
   "display_name": "Python 3",
   "language": "python",
   "name": "python3"
  },
  "language_info": {
   "codemirror_mode": {
    "name": "ipython",
    "version": 3
   },
   "file_extension": ".py",
   "mimetype": "text/x-python",
   "name": "python",
   "nbconvert_exporter": "python",
   "pygments_lexer": "ipython3",
   "version": "3.8.3"
  }
 },
 "nbformat": 4,
 "nbformat_minor": 4
}
